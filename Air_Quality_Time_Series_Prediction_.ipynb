{
 "cells": [
  {
   "cell_type": "code",
   "execution_count": 2,
   "id": "711c4536-dd39-4914-875a-fde1a03ae607",
   "metadata": {},
   "outputs": [],
   "source": [
    "import pandas as pd\n",
    "from statsmodels.graphics.tsaplots import plot_acf, plot_pacf\n",
    "from statsmodels.tsa.ar_model import AutoReg\n",
    "from pymongo import MongoClient\n",
    "import plotly.express as px\n",
    "import matplotlib.pyplot as plt\n",
    "from sklearn.metrics import mean_absolute_error\n",
    "from glob import glob"
   ]
  },
  {
   "cell_type": "markdown",
   "id": "7b53230f-dbf4-413d-a2be-e22820f3367c",
   "metadata": {},
   "source": [
    "### The goal is to figure out if time series model such as ARIMA or AutoReg will be better predictive models of Air Quality (PM2.5) in Lagos/Nigeria than a regular Linear or Ridge regression"
   ]
  },
  {
   "cell_type": "markdown",
   "id": "09e14028-39f0-4fef-9e47-b684ef071c21",
   "metadata": {},
   "source": [
    "Data were downloaded from https://open.africa/dataset/sensorsafrica-airquality-archive-lagos. Turns out, all the data look a bit untidy and sperated with a \";\" rather than a \",\" among other issues."
   ]
  },
  {
   "cell_type": "code",
   "execution_count": 19,
   "id": "8573ecaf-9e99-4a5d-a457-8789edb53693",
   "metadata": {},
   "outputs": [],
   "source": [
    "data_files = glob(\"./data/tmp*.csv\")"
   ]
  },
  {
   "cell_type": "code",
   "execution_count": 20,
   "id": "e5b8220e-33a8-4029-aaac-9d6916d4f1be",
   "metadata": {},
   "outputs": [
    {
     "data": {
      "text/html": [
       "<div>\n",
       "<style scoped>\n",
       "    .dataframe tbody tr th:only-of-type {\n",
       "        vertical-align: middle;\n",
       "    }\n",
       "\n",
       "    .dataframe tbody tr th {\n",
       "        vertical-align: top;\n",
       "    }\n",
       "\n",
       "    .dataframe thead th {\n",
       "        text-align: right;\n",
       "    }\n",
       "</style>\n",
       "<table border=\"1\" class=\"dataframe\">\n",
       "  <thead>\n",
       "    <tr style=\"text-align: right;\">\n",
       "      <th></th>\n",
       "      <th>sensor_id;sensor_type;location;lat;lon;timestamp;value_type;value</th>\n",
       "    </tr>\n",
       "  </thead>\n",
       "  <tbody>\n",
       "    <tr>\n",
       "      <th>0</th>\n",
       "      <td>4852;DHT22;3627;6.515;3.400;2024-02-01T12:02:5...</td>\n",
       "    </tr>\n",
       "    <tr>\n",
       "      <th>1</th>\n",
       "      <td>4852;DHT22;3627;6.515;3.400;2024-02-01T12:02:5...</td>\n",
       "    </tr>\n",
       "  </tbody>\n",
       "</table>\n",
       "</div>"
      ],
      "text/plain": [
       "  sensor_id;sensor_type;location;lat;lon;timestamp;value_type;value\n",
       "0  4852;DHT22;3627;6.515;3.400;2024-02-01T12:02:5...               \n",
       "1  4852;DHT22;3627;6.515;3.400;2024-02-01T12:02:5...               "
      ]
     },
     "execution_count": 20,
     "metadata": {},
     "output_type": "execute_result"
    }
   ],
   "source": [
    "data_files[0]\n",
    "pd.read_csv(data_files[0]).head(2)"
   ]
  },
  {
   "cell_type": "code",
   "execution_count": 81,
   "id": "3161b5d2-8f0a-4b0d-8e01-6f7ac5190603",
   "metadata": {},
   "outputs": [
    {
     "data": {
      "text/html": [
       "<div>\n",
       "<style scoped>\n",
       "    .dataframe tbody tr th:only-of-type {\n",
       "        vertical-align: middle;\n",
       "    }\n",
       "\n",
       "    .dataframe tbody tr th {\n",
       "        vertical-align: top;\n",
       "    }\n",
       "\n",
       "    .dataframe thead th {\n",
       "        text-align: right;\n",
       "    }\n",
       "</style>\n",
       "<table border=\"1\" class=\"dataframe\">\n",
       "  <thead>\n",
       "    <tr style=\"text-align: right;\">\n",
       "      <th></th>\n",
       "      <th>sensor_id</th>\n",
       "      <th>sensor_type</th>\n",
       "      <th>location</th>\n",
       "      <th>lat</th>\n",
       "      <th>lon</th>\n",
       "      <th>timestamp</th>\n",
       "      <th>value_type</th>\n",
       "      <th>value</th>\n",
       "    </tr>\n",
       "  </thead>\n",
       "  <tbody>\n",
       "    <tr>\n",
       "      <th>90112</th>\n",
       "      <td>4854</td>\n",
       "      <td>DHT22</td>\n",
       "      <td>3628</td>\n",
       "      <td>6.559</td>\n",
       "      <td>3.386</td>\n",
       "      <td>2024-03-18T18:49:11.233004+00:00</td>\n",
       "      <td>humidity</td>\n",
       "      <td>78.10</td>\n",
       "    </tr>\n",
       "    <tr>\n",
       "      <th>90113</th>\n",
       "      <td>4854</td>\n",
       "      <td>DHT22</td>\n",
       "      <td>3628</td>\n",
       "      <td>6.559</td>\n",
       "      <td>3.386</td>\n",
       "      <td>2024-03-18T18:49:11.233004+00:00</td>\n",
       "      <td>temperature</td>\n",
       "      <td>32.80</td>\n",
       "    </tr>\n",
       "    <tr>\n",
       "      <th>90114</th>\n",
       "      <td>4853</td>\n",
       "      <td>pms5003</td>\n",
       "      <td>3628</td>\n",
       "      <td>6.559</td>\n",
       "      <td>3.386</td>\n",
       "      <td>2024-03-18T18:50:05.071658+00:00</td>\n",
       "      <td>P2</td>\n",
       "      <td>21.40</td>\n",
       "    </tr>\n",
       "    <tr>\n",
       "      <th>90115</th>\n",
       "      <td>4853</td>\n",
       "      <td>pms5003</td>\n",
       "      <td>3628</td>\n",
       "      <td>6.559</td>\n",
       "      <td>3.386</td>\n",
       "      <td>2024-03-18T18:50:05.071658+00:00</td>\n",
       "      <td>P1</td>\n",
       "      <td>23.60</td>\n",
       "    </tr>\n",
       "    <tr>\n",
       "      <th>90116</th>\n",
       "      <td>4853</td>\n",
       "      <td>pms5003</td>\n",
       "      <td>3628</td>\n",
       "      <td>6.559</td>\n",
       "      <td>3.386</td>\n",
       "      <td>2024-03-18T18:50:05.071658+00:00</td>\n",
       "      <td>P0</td>\n",
       "      <td>15.40</td>\n",
       "    </tr>\n",
       "    <tr>\n",
       "      <th>90117</th>\n",
       "      <td>4854</td>\n",
       "      <td>DHT22</td>\n",
       "      <td>3628</td>\n",
       "      <td>6.559</td>\n",
       "      <td>3.386</td>\n",
       "      <td>2024-03-18T18:50:18.211645+00:00</td>\n",
       "      <td>humidity</td>\n",
       "      <td>78.60</td>\n",
       "    </tr>\n",
       "    <tr>\n",
       "      <th>90118</th>\n",
       "      <td>4854</td>\n",
       "      <td>DHT22</td>\n",
       "      <td>3628</td>\n",
       "      <td>6.559</td>\n",
       "      <td>3.386</td>\n",
       "      <td>2024-03-18T18:50:18.211645+00:00</td>\n",
       "      <td>temperature</td>\n",
       "      <td>32.80</td>\n",
       "    </tr>\n",
       "    <tr>\n",
       "      <th>90119</th>\n",
       "      <td>4853</td>\n",
       "      <td>pms5003</td>\n",
       "      <td>3628</td>\n",
       "      <td>6.559</td>\n",
       "      <td>3.386</td>\n",
       "      <td>2024-03-18T18:51:09.080683+00:00</td>\n",
       "      <td>P2</td>\n",
       "      <td>23.33</td>\n",
       "    </tr>\n",
       "    <tr>\n",
       "      <th>90120</th>\n",
       "      <td>4853</td>\n",
       "      <td>pms5003</td>\n",
       "      <td>3628</td>\n",
       "      <td>6.559</td>\n",
       "      <td>3.386</td>\n",
       "      <td>2024-03-18T18:51:09.080683+00:00</td>\n",
       "      <td>P1</td>\n",
       "      <td>26.00</td>\n",
       "    </tr>\n",
       "    <tr>\n",
       "      <th>90121</th>\n",
       "      <td>4853</td>\n",
       "      <td>pms5003</td>\n",
       "      <td>3628</td>\n",
       "      <td>6.559</td>\n",
       "      <td>3.386</td>\n",
       "      <td>2024-03-18T18:51:09.080683+00:00</td>\n",
       "      <td>P0</td>\n",
       "      <td>17.67</td>\n",
       "    </tr>\n",
       "    <tr>\n",
       "      <th>90122</th>\n",
       "      <td>4854</td>\n",
       "      <td>DHT22</td>\n",
       "      <td>3628</td>\n",
       "      <td>6.559</td>\n",
       "      <td>3.386</td>\n",
       "      <td>2024-03-18T18:51:22.690359+00:00</td>\n",
       "      <td>humidity</td>\n",
       "      <td>78.60</td>\n",
       "    </tr>\n",
       "    <tr>\n",
       "      <th>90123</th>\n",
       "      <td>4854</td>\n",
       "      <td>DHT22</td>\n",
       "      <td>3628</td>\n",
       "      <td>6.559</td>\n",
       "      <td>3.386</td>\n",
       "      <td>2024-03-18T18:51:22.690359+00:00</td>\n",
       "      <td>temperature</td>\n",
       "      <td>32.80</td>\n",
       "    </tr>\n",
       "    <tr>\n",
       "      <th>90124</th>\n",
       "      <td>4853</td>\n",
       "      <td>pms5003</td>\n",
       "      <td>3628</td>\n",
       "      <td>6.559</td>\n",
       "      <td>3.386</td>\n",
       "      <td>2024-03-18T18:52:14.212829+00:00</td>\n",
       "      <td>P2</td>\n",
       "      <td>19.00</td>\n",
       "    </tr>\n",
       "    <tr>\n",
       "      <th>90125</th>\n",
       "      <td>4853</td>\n",
       "      <td>pms5003</td>\n",
       "      <td>3628</td>\n",
       "      <td>6.559</td>\n",
       "      <td>3.386</td>\n",
       "      <td>2024-03-18T18:52:14.212829+00:00</td>\n",
       "      <td>P1</td>\n",
       "      <td>20.00</td>\n",
       "    </tr>\n",
       "    <tr>\n",
       "      <th>90126</th>\n",
       "      <td>4853</td>\n",
       "      <td>pms5003</td>\n",
       "      <td>3628</td>\n",
       "      <td>6.559</td>\n",
       "      <td>3.386</td>\n",
       "      <td>2024-03-18T18:52:14.212829+00:00</td>\n",
       "      <td>P0</td>\n",
       "      <td>15.00</td>\n",
       "    </tr>\n",
       "    <tr>\n",
       "      <th>90127</th>\n",
       "      <td>4854</td>\n",
       "      <td>DHT22</td>\n",
       "      <td>3628</td>\n",
       "      <td>6.559</td>\n",
       "      <td>3.386</td>\n",
       "      <td>2024-03-18T18:52:27.350889+00:00</td>\n",
       "      <td>humidity</td>\n",
       "      <td>78.50</td>\n",
       "    </tr>\n",
       "    <tr>\n",
       "      <th>90128</th>\n",
       "      <td>4854</td>\n",
       "      <td>DHT22</td>\n",
       "      <td>3628</td>\n",
       "      <td>6.559</td>\n",
       "      <td>3.386</td>\n",
       "      <td>2024-03-18T18:52:27.350889+00:00</td>\n",
       "      <td>temperature</td>\n",
       "      <td>32.80</td>\n",
       "    </tr>\n",
       "    <tr>\n",
       "      <th>90129</th>\n",
       "      <td>4853</td>\n",
       "      <td>pms5003</td>\n",
       "      <td>3628</td>\n",
       "      <td>6.559</td>\n",
       "      <td>3.386</td>\n",
       "      <td>2024-03-18T18:53:20.437257+00:00</td>\n",
       "      <td>P2</td>\n",
       "      <td>24.00</td>\n",
       "    </tr>\n",
       "    <tr>\n",
       "      <th>90130</th>\n",
       "      <td>4853</td>\n",
       "      <td>pms5003</td>\n",
       "      <td>3628</td>\n",
       "      <td>6.559</td>\n",
       "      <td>3.386</td>\n",
       "      <td>2024-03-18T18:53:20.437257+00:00</td>\n",
       "      <td>P1</td>\n",
       "      <td>26.00</td>\n",
       "    </tr>\n",
       "    <tr>\n",
       "      <th>90131</th>\n",
       "      <td>4853</td>\n",
       "      <td>pms5003</td>\n",
       "      <td>3628</td>\n",
       "      <td>6.559</td>\n",
       "      <td>3.386</td>\n",
       "      <td>2024-03-18T18:53:20.437257+00:00</td>\n",
       "      <td>P0</td>\n",
       "      <td>18.00</td>\n",
       "    </tr>\n",
       "  </tbody>\n",
       "</table>\n",
       "</div>"
      ],
      "text/plain": [
       "      sensor_id sensor_type location    lat    lon  \\\n",
       "90112      4854       DHT22     3628  6.559  3.386   \n",
       "90113      4854       DHT22     3628  6.559  3.386   \n",
       "90114      4853     pms5003     3628  6.559  3.386   \n",
       "90115      4853     pms5003     3628  6.559  3.386   \n",
       "90116      4853     pms5003     3628  6.559  3.386   \n",
       "90117      4854       DHT22     3628  6.559  3.386   \n",
       "90118      4854       DHT22     3628  6.559  3.386   \n",
       "90119      4853     pms5003     3628  6.559  3.386   \n",
       "90120      4853     pms5003     3628  6.559  3.386   \n",
       "90121      4853     pms5003     3628  6.559  3.386   \n",
       "90122      4854       DHT22     3628  6.559  3.386   \n",
       "90123      4854       DHT22     3628  6.559  3.386   \n",
       "90124      4853     pms5003     3628  6.559  3.386   \n",
       "90125      4853     pms5003     3628  6.559  3.386   \n",
       "90126      4853     pms5003     3628  6.559  3.386   \n",
       "90127      4854       DHT22     3628  6.559  3.386   \n",
       "90128      4854       DHT22     3628  6.559  3.386   \n",
       "90129      4853     pms5003     3628  6.559  3.386   \n",
       "90130      4853     pms5003     3628  6.559  3.386   \n",
       "90131      4853     pms5003     3628  6.559  3.386   \n",
       "\n",
       "                              timestamp   value_type  value  \n",
       "90112  2024-03-18T18:49:11.233004+00:00     humidity  78.10  \n",
       "90113  2024-03-18T18:49:11.233004+00:00  temperature  32.80  \n",
       "90114  2024-03-18T18:50:05.071658+00:00           P2  21.40  \n",
       "90115  2024-03-18T18:50:05.071658+00:00           P1  23.60  \n",
       "90116  2024-03-18T18:50:05.071658+00:00           P0  15.40  \n",
       "90117  2024-03-18T18:50:18.211645+00:00     humidity  78.60  \n",
       "90118  2024-03-18T18:50:18.211645+00:00  temperature  32.80  \n",
       "90119  2024-03-18T18:51:09.080683+00:00           P2  23.33  \n",
       "90120  2024-03-18T18:51:09.080683+00:00           P1  26.00  \n",
       "90121  2024-03-18T18:51:09.080683+00:00           P0  17.67  \n",
       "90122  2024-03-18T18:51:22.690359+00:00     humidity  78.60  \n",
       "90123  2024-03-18T18:51:22.690359+00:00  temperature  32.80  \n",
       "90124  2024-03-18T18:52:14.212829+00:00           P2  19.00  \n",
       "90125  2024-03-18T18:52:14.212829+00:00           P1  20.00  \n",
       "90126  2024-03-18T18:52:14.212829+00:00           P0  15.00  \n",
       "90127  2024-03-18T18:52:27.350889+00:00     humidity  78.50  \n",
       "90128  2024-03-18T18:52:27.350889+00:00  temperature  32.80  \n",
       "90129  2024-03-18T18:53:20.437257+00:00           P2  24.00  \n",
       "90130  2024-03-18T18:53:20.437257+00:00           P1  26.00  \n",
       "90131  2024-03-18T18:53:20.437257+00:00           P0  18.00  "
      ]
     },
     "execution_count": 81,
     "metadata": {},
     "output_type": "execute_result"
    }
   ],
   "source": [
    "temp_df = pd.read_csv(data_files[4])\n",
    "columns = temp_df.columns.str.split(\";\")\n",
    "temp_df = temp_df[\"sensor_id;sensor_type;location;lat;lon;timestamp;value_type;value\"].str.split(\";\", expand=True)\n",
    "temp_df.columns = list(columns)[0]\n",
    "temp_df.tail(20)"
   ]
  },
  {
   "cell_type": "code",
   "execution_count": 87,
   "id": "793bbc60-5fff-4eb9-b65d-20c0859bd0cc",
   "metadata": {},
   "outputs": [
    {
     "data": {
      "text/plain": [
       "sensor_id                                  4853\n",
       "sensor_type                               DHT22\n",
       "location                                   3628\n",
       "lat                                       6.559\n",
       "lon                                       3.386\n",
       "timestamp      2024-03-01T00:00:39.896476+00:00\n",
       "value_type                                   P0\n",
       "value                                     10.00\n",
       "dtype: object"
      ]
     },
     "execution_count": 87,
     "metadata": {},
     "output_type": "execute_result"
    }
   ],
   "source": [
    "temp_df[temp_df[\"location\"] == \"3628\"].min()"
   ]
  },
  {
   "cell_type": "code",
   "execution_count": 90,
   "id": "8b50325f-e812-4ff2-8a07-1dfa188c208e",
   "metadata": {},
   "outputs": [
    {
     "data": {
      "text/plain": [
       "sensor_id                                  4857\n",
       "sensor_type                               DHT22\n",
       "location                                   3630\n",
       "lat                                       6.540\n",
       "lon                                       3.297\n",
       "timestamp      2024-03-01T11:01:10.225034+00:00\n",
       "value_type                                   P0\n",
       "value                                      0.00\n",
       "dtype: object"
      ]
     },
     "execution_count": 90,
     "metadata": {},
     "output_type": "execute_result"
    }
   ],
   "source": [
    "temp_df[temp_df[\"location\"] == \"3630\"].min()"
   ]
  },
  {
   "cell_type": "code",
   "execution_count": 82,
   "id": "57482622-04a7-404a-98cf-8068ac4219e0",
   "metadata": {},
   "outputs": [
    {
     "data": {
      "text/plain": [
       "location\n",
       "3628    73685\n",
       "3630    16447\n",
       "Name: count, dtype: int64"
      ]
     },
     "execution_count": 82,
     "metadata": {},
     "output_type": "execute_result"
    }
   ],
   "source": [
    "temp_df[\"location\"].value_counts()"
   ]
  },
  {
   "cell_type": "code",
   "execution_count": 6,
   "id": "3ad3b897-19dc-405f-9da3-cf364bb2dbe0",
   "metadata": {},
   "outputs": [
    {
     "data": {
      "text/plain": [
       "DatetimeIndex(['2024-02-01 13:02:52.744148+01:00',\n",
       "               '2024-02-01 13:02:52.744148+01:00',\n",
       "               '2024-02-01 13:03:47.839650+01:00',\n",
       "               '2024-02-01 13:03:47.839650+01:00',\n",
       "               '2024-02-01 13:04:46.909811+01:00'],\n",
       "              dtype='datetime64[ns, Africa/Lagos]', name='timestamp', freq=None)"
      ]
     },
     "execution_count": 6,
     "metadata": {},
     "output_type": "execute_result"
    }
   ],
   "source": [
    "import pytz\n",
    "temp_df[\"timestamp\"] = pd.to_datetime(temp_df[\"timestamp\"])\n",
    "temp_df = temp_df.set_index(\"timestamp\")\n",
    "temp_df.index.tz_convert(\"Africa/Lagos\")[:5]"
   ]
  },
  {
   "cell_type": "code",
   "execution_count": 7,
   "id": "ad85d211-89bd-49e1-b383-8a4706db3cea",
   "metadata": {},
   "outputs": [
    {
     "data": {
      "text/plain": [
       "value_type\n",
       "P2             4270\n",
       "P1             4270\n",
       "P0             4270\n",
       "humidity       4144\n",
       "temperature    4143\n",
       "Name: count, dtype: int64"
      ]
     },
     "execution_count": 7,
     "metadata": {},
     "output_type": "execute_result"
    }
   ],
   "source": [
    "temp_df.value_type.value_counts()"
   ]
  },
  {
   "cell_type": "code",
   "execution_count": 8,
   "id": "cae4efee-c2ba-435a-b745-83bf6253ec26",
   "metadata": {},
   "outputs": [],
   "source": [
    "## Starting off with the Ridge Regression Model\n",
    "from sklearn.linear_model import Ridge\n",
    "from sklearn.pipeline import make_pipeline, Pipeline\n",
    "from sklearn.metrics import mean_absolute_error"
   ]
  },
  {
   "cell_type": "code",
   "execution_count": 9,
   "id": "7dbf57cb-ca28-4a98-82de-55aa29c74c27",
   "metadata": {},
   "outputs": [],
   "source": [
    "# Dealing with data wrangling\n",
    "def wrangle(data_file):\n",
    "    df = pd.read_csv(data_file)\n",
    "    columns = df.columns.str.split(\";\")\n",
    "    df = df[\"sensor_id;sensor_type;location;lat;lon;timestamp;value_type;value\"].str.split(\";\", expand=True)\n",
    "    df.columns = list(columns)[0]\n",
    "\n",
    "    # Working with only PM2.5 value_type\n",
    "    df_p2 = df[\"value_type\"] == \"P2\"\n",
    "    df = df[df_p2]\n",
    "\n",
    "    # Remove irrelevant columns\n",
    "    df.drop(columns=['sensor_id','sensor_type', 'location', 'value_type'], inplace=True)\n",
    "\n",
    "    # Convert timeezone to Lagos's\n",
    "    df[\"timestamp\"] = pd.to_datetime(df[\"timestamp\"])\n",
    "    df = df.set_index(\"timestamp\")\n",
    "    df.index.tz_convert(\"Africa/Lagos\")\n",
    "    \n",
    "    return df"
   ]
  },
  {
   "cell_type": "code",
   "execution_count": 22,
   "id": "d51bc766-6f04-4d8c-83aa-67b1de09c21d",
   "metadata": {},
   "outputs": [
    {
     "data": {
      "text/plain": [
       "['./data\\\\tmp29zv95aa.csv',\n",
       " './data\\\\tmpdhpbd64k.csv',\n",
       " './data\\\\tmpf7lx946x.csv',\n",
       " './data\\\\tmpoh50r5me.csv',\n",
       " './data\\\\tmpq5nzwa0h.csv']"
      ]
     },
     "execution_count": 22,
     "metadata": {},
     "output_type": "execute_result"
    }
   ],
   "source": [
    "data_files"
   ]
  },
  {
   "cell_type": "code",
   "execution_count": 29,
   "id": "3ddf7ccb-ecfb-42c3-81e4-96126fb693ea",
   "metadata": {},
   "outputs": [
    {
     "data": {
      "text/html": [
       "<div>\n",
       "<style scoped>\n",
       "    .dataframe tbody tr th:only-of-type {\n",
       "        vertical-align: middle;\n",
       "    }\n",
       "\n",
       "    .dataframe tbody tr th {\n",
       "        vertical-align: top;\n",
       "    }\n",
       "\n",
       "    .dataframe thead th {\n",
       "        text-align: right;\n",
       "    }\n",
       "</style>\n",
       "<table border=\"1\" class=\"dataframe\">\n",
       "  <thead>\n",
       "    <tr style=\"text-align: right;\">\n",
       "      <th></th>\n",
       "      <th>lat</th>\n",
       "      <th>lon</th>\n",
       "      <th>value</th>\n",
       "    </tr>\n",
       "    <tr>\n",
       "      <th>timestamp</th>\n",
       "      <th></th>\n",
       "      <th></th>\n",
       "      <th></th>\n",
       "    </tr>\n",
       "  </thead>\n",
       "  <tbody>\n",
       "    <tr>\n",
       "      <th>2024-03-01 00:00:39.896476+00:00</th>\n",
       "      <td>6.559</td>\n",
       "      <td>3.386</td>\n",
       "      <td>29.67</td>\n",
       "    </tr>\n",
       "    <tr>\n",
       "      <th>2024-03-01 00:01:47.310570+00:00</th>\n",
       "      <td>6.559</td>\n",
       "      <td>3.386</td>\n",
       "      <td>27.00</td>\n",
       "    </tr>\n",
       "    <tr>\n",
       "      <th>2024-03-01 00:02:53.783885+00:00</th>\n",
       "      <td>6.559</td>\n",
       "      <td>3.386</td>\n",
       "      <td>31.00</td>\n",
       "    </tr>\n",
       "    <tr>\n",
       "      <th>2024-03-01 00:04:01.176132+00:00</th>\n",
       "      <td>6.559</td>\n",
       "      <td>3.386</td>\n",
       "      <td>32.00</td>\n",
       "    </tr>\n",
       "    <tr>\n",
       "      <th>2024-03-01 00:05:09.205034+00:00</th>\n",
       "      <td>6.559</td>\n",
       "      <td>3.386</td>\n",
       "      <td>26.50</td>\n",
       "    </tr>\n",
       "  </tbody>\n",
       "</table>\n",
       "</div>"
      ],
      "text/plain": [
       "                                    lat    lon  value\n",
       "timestamp                                            \n",
       "2024-03-01 00:00:39.896476+00:00  6.559  3.386  29.67\n",
       "2024-03-01 00:01:47.310570+00:00  6.559  3.386  27.00\n",
       "2024-03-01 00:02:53.783885+00:00  6.559  3.386  31.00\n",
       "2024-03-01 00:04:01.176132+00:00  6.559  3.386  32.00\n",
       "2024-03-01 00:05:09.205034+00:00  6.559  3.386  26.50"
      ]
     },
     "execution_count": 29,
     "metadata": {},
     "output_type": "execute_result"
    }
   ],
   "source": [
    "wrangle(data_files[4]).head()"
   ]
  },
  {
   "cell_type": "code",
   "execution_count": 28,
   "id": "a1e7ab97-ccd3-409b-afd2-1580ed987b65",
   "metadata": {},
   "outputs": [
    {
     "name": "stdout",
     "output_type": "stream",
     "text": [
      "(4270, 3)\n",
      "(9393, 3)\n",
      "(4304, 3)\n",
      "(250, 3)\n",
      "(18272, 3)\n"
     ]
    }
   ],
   "source": [
    "for data in data_files:\n",
    "    df = wrangle(data)\n",
    "    print(df.shape)"
   ]
  },
  {
   "cell_type": "code",
   "execution_count": 25,
   "id": "99d81bc6-83c1-49e0-b805-53d7bdf8d43f",
   "metadata": {},
   "outputs": [],
   "source": [
    "merge_order = [3, 1, 2, 0, 4]\n",
    "data_frames = []\n",
    "for i in merge_order:\n",
    "    data_frames.append(wrangle(data_files[i]))"
   ]
  },
  {
   "cell_type": "code",
   "execution_count": 26,
   "id": "8935ff4a-e29b-42c9-9cfd-68854d13134c",
   "metadata": {},
   "outputs": [
    {
     "data": {
      "text/plain": [
       "list"
      ]
     },
     "execution_count": 26,
     "metadata": {},
     "output_type": "execute_result"
    }
   ],
   "source": [
    "type(data_frames)"
   ]
  },
  {
   "cell_type": "code",
   "execution_count": 108,
   "id": "06b8d03a-6572-4ca3-8a71-b94808259ad7",
   "metadata": {},
   "outputs": [],
   "source": [
    "merged_df = pd.concat(data_frames)"
   ]
  },
  {
   "cell_type": "code",
   "execution_count": 109,
   "id": "a63d9469-d5ec-4ea3-94c3-17f2a13774f4",
   "metadata": {},
   "outputs": [
    {
     "data": {
      "text/plain": [
       "(36489, 3)"
      ]
     },
     "execution_count": 109,
     "metadata": {},
     "output_type": "execute_result"
    }
   ],
   "source": [
    "merged_df.shape"
   ]
  },
  {
   "cell_type": "code",
   "execution_count": 110,
   "id": "7929b3da-6a47-46f6-b505-adb6d0092f7c",
   "metadata": {},
   "outputs": [
    {
     "data": {
      "text/html": [
       "<div>\n",
       "<style scoped>\n",
       "    .dataframe tbody tr th:only-of-type {\n",
       "        vertical-align: middle;\n",
       "    }\n",
       "\n",
       "    .dataframe tbody tr th {\n",
       "        vertical-align: top;\n",
       "    }\n",
       "\n",
       "    .dataframe thead th {\n",
       "        text-align: right;\n",
       "    }\n",
       "</style>\n",
       "<table border=\"1\" class=\"dataframe\">\n",
       "  <thead>\n",
       "    <tr style=\"text-align: right;\">\n",
       "      <th></th>\n",
       "      <th>lat</th>\n",
       "      <th>lon</th>\n",
       "      <th>value</th>\n",
       "    </tr>\n",
       "    <tr>\n",
       "      <th>timestamp</th>\n",
       "      <th></th>\n",
       "      <th></th>\n",
       "      <th></th>\n",
       "    </tr>\n",
       "  </thead>\n",
       "  <tbody>\n",
       "    <tr>\n",
       "      <th>2023-11-01 16:44:52.764459+00:00</th>\n",
       "      <td>6.428</td>\n",
       "      <td>3.435</td>\n",
       "      <td>19.00</td>\n",
       "    </tr>\n",
       "    <tr>\n",
       "      <th>2023-11-01 17:52:08.924982+00:00</th>\n",
       "      <td>6.540</td>\n",
       "      <td>3.297</td>\n",
       "      <td>3.50</td>\n",
       "    </tr>\n",
       "    <tr>\n",
       "      <th>2023-11-01 17:53:13.805911+00:00</th>\n",
       "      <td>6.540</td>\n",
       "      <td>3.297</td>\n",
       "      <td>3.00</td>\n",
       "    </tr>\n",
       "    <tr>\n",
       "      <th>2023-11-01 18:16:42.515782+00:00</th>\n",
       "      <td>6.559</td>\n",
       "      <td>3.386</td>\n",
       "      <td>40.33</td>\n",
       "    </tr>\n",
       "    <tr>\n",
       "      <th>2023-11-03 07:38:39.664224+00:00</th>\n",
       "      <td>6.540</td>\n",
       "      <td>3.297</td>\n",
       "      <td>47.00</td>\n",
       "    </tr>\n",
       "  </tbody>\n",
       "</table>\n",
       "</div>"
      ],
      "text/plain": [
       "                                    lat    lon  value\n",
       "timestamp                                            \n",
       "2023-11-01 16:44:52.764459+00:00  6.428  3.435  19.00\n",
       "2023-11-01 17:52:08.924982+00:00  6.540  3.297   3.50\n",
       "2023-11-01 17:53:13.805911+00:00  6.540  3.297   3.00\n",
       "2023-11-01 18:16:42.515782+00:00  6.559  3.386  40.33\n",
       "2023-11-03 07:38:39.664224+00:00  6.540  3.297  47.00"
      ]
     },
     "execution_count": 110,
     "metadata": {},
     "output_type": "execute_result"
    }
   ],
   "source": [
    "merged_df.head()"
   ]
  },
  {
   "cell_type": "code",
   "execution_count": 111,
   "id": "da3682f5-2df0-4f1e-94b4-b69054e5929a",
   "metadata": {},
   "outputs": [
    {
     "name": "stdout",
     "output_type": "stream",
     "text": [
      "<class 'pandas.core.frame.DataFrame'>\n",
      "DatetimeIndex: 36489 entries, 2023-11-01 16:44:52.764459+00:00 to 2024-03-18 18:53:20.437257+00:00\n",
      "Data columns (total 3 columns):\n",
      " #   Column  Non-Null Count  Dtype \n",
      "---  ------  --------------  ----- \n",
      " 0   lat     36489 non-null  object\n",
      " 1   lon     36489 non-null  object\n",
      " 2   value   36489 non-null  object\n",
      "dtypes: object(3)\n",
      "memory usage: 1.1+ MB\n"
     ]
    }
   ],
   "source": [
    "merged_df.info()"
   ]
  },
  {
   "cell_type": "markdown",
   "id": "805f68aa-6c6c-406e-a8d4-2d1ea8c1124f",
   "metadata": {},
   "source": [
    "##### Converting Colums to float type. (Should have done so in the Wrangle function)"
   ]
  },
  {
   "cell_type": "code",
   "execution_count": 112,
   "id": "3ffa68ff-fd43-4bb5-aca0-51c5fe4f84ce",
   "metadata": {},
   "outputs": [],
   "source": [
    "merged_df[[\"lat\", \"lon\", \"value\"]] = merged_df[[\"lat\", \"lon\", \"value\"]].astype(\"float\")"
   ]
  },
  {
   "cell_type": "code",
   "execution_count": 113,
   "id": "dd963a4a-238a-4cf9-bc9b-e58e870d5f88",
   "metadata": {},
   "outputs": [
    {
     "data": {
      "text/html": [
       "<div>\n",
       "<style scoped>\n",
       "    .dataframe tbody tr th:only-of-type {\n",
       "        vertical-align: middle;\n",
       "    }\n",
       "\n",
       "    .dataframe tbody tr th {\n",
       "        vertical-align: top;\n",
       "    }\n",
       "\n",
       "    .dataframe thead th {\n",
       "        text-align: right;\n",
       "    }\n",
       "</style>\n",
       "<table border=\"1\" class=\"dataframe\">\n",
       "  <thead>\n",
       "    <tr style=\"text-align: right;\">\n",
       "      <th></th>\n",
       "      <th>lat</th>\n",
       "      <th>lon</th>\n",
       "      <th>value</th>\n",
       "    </tr>\n",
       "    <tr>\n",
       "      <th>timestamp</th>\n",
       "      <th></th>\n",
       "      <th></th>\n",
       "      <th></th>\n",
       "    </tr>\n",
       "  </thead>\n",
       "  <tbody>\n",
       "    <tr>\n",
       "      <th>2023-11-01 16:44:52.764459+00:00</th>\n",
       "      <td>6.428</td>\n",
       "      <td>3.435</td>\n",
       "      <td>19.00</td>\n",
       "    </tr>\n",
       "    <tr>\n",
       "      <th>2023-11-01 17:52:08.924982+00:00</th>\n",
       "      <td>6.540</td>\n",
       "      <td>3.297</td>\n",
       "      <td>3.50</td>\n",
       "    </tr>\n",
       "    <tr>\n",
       "      <th>2023-11-01 17:53:13.805911+00:00</th>\n",
       "      <td>6.540</td>\n",
       "      <td>3.297</td>\n",
       "      <td>3.00</td>\n",
       "    </tr>\n",
       "    <tr>\n",
       "      <th>2023-11-01 18:16:42.515782+00:00</th>\n",
       "      <td>6.559</td>\n",
       "      <td>3.386</td>\n",
       "      <td>40.33</td>\n",
       "    </tr>\n",
       "    <tr>\n",
       "      <th>2023-11-03 07:38:39.664224+00:00</th>\n",
       "      <td>6.540</td>\n",
       "      <td>3.297</td>\n",
       "      <td>47.00</td>\n",
       "    </tr>\n",
       "  </tbody>\n",
       "</table>\n",
       "</div>"
      ],
      "text/plain": [
       "                                    lat    lon  value\n",
       "timestamp                                            \n",
       "2023-11-01 16:44:52.764459+00:00  6.428  3.435  19.00\n",
       "2023-11-01 17:52:08.924982+00:00  6.540  3.297   3.50\n",
       "2023-11-01 17:53:13.805911+00:00  6.540  3.297   3.00\n",
       "2023-11-01 18:16:42.515782+00:00  6.559  3.386  40.33\n",
       "2023-11-03 07:38:39.664224+00:00  6.540  3.297  47.00"
      ]
     },
     "execution_count": 113,
     "metadata": {},
     "output_type": "execute_result"
    }
   ],
   "source": [
    "merged_df.head()"
   ]
  },
  {
   "cell_type": "code",
   "execution_count": 114,
   "id": "a4403cd8-7cc7-48f4-bd2d-4d3bc3918278",
   "metadata": {},
   "outputs": [
    {
     "ename": "SyntaxError",
     "evalue": "invalid syntax (1766138652.py, line 1)",
     "output_type": "error",
     "traceback": [
      "\u001b[1;36m  Cell \u001b[1;32mIn[114], line 1\u001b[1;36m\u001b[0m\n\u001b[1;33m    Deciding to resample data airquality data to 1 hour mark rather than within randon minutes.\u001b[0m\n\u001b[1;37m             ^\u001b[0m\n\u001b[1;31mSyntaxError\u001b[0m\u001b[1;31m:\u001b[0m invalid syntax\n"
     ]
    }
   ],
   "source": [
    "Deciding to resample data airquality data to 1 hour mark rather than within randon minutes."
   ]
  },
  {
   "cell_type": "code",
   "execution_count": 115,
   "id": "9d74edf2-c4e4-43be-85a9-9dcd84b06504",
   "metadata": {},
   "outputs": [
    {
     "data": {
      "text/html": [
       "<div>\n",
       "<style scoped>\n",
       "    .dataframe tbody tr th:only-of-type {\n",
       "        vertical-align: middle;\n",
       "    }\n",
       "\n",
       "    .dataframe tbody tr th {\n",
       "        vertical-align: top;\n",
       "    }\n",
       "\n",
       "    .dataframe thead th {\n",
       "        text-align: right;\n",
       "    }\n",
       "</style>\n",
       "<table border=\"1\" class=\"dataframe\">\n",
       "  <thead>\n",
       "    <tr style=\"text-align: right;\">\n",
       "      <th></th>\n",
       "      <th>lat</th>\n",
       "      <th>lon</th>\n",
       "      <th>value</th>\n",
       "    </tr>\n",
       "    <tr>\n",
       "      <th>timestamp</th>\n",
       "      <th></th>\n",
       "      <th></th>\n",
       "      <th></th>\n",
       "    </tr>\n",
       "  </thead>\n",
       "  <tbody>\n",
       "    <tr>\n",
       "      <th>2023-11-01 16:00:00+00:00</th>\n",
       "      <td>6.428</td>\n",
       "      <td>3.435</td>\n",
       "      <td>19.00</td>\n",
       "    </tr>\n",
       "    <tr>\n",
       "      <th>2023-11-01 17:00:00+00:00</th>\n",
       "      <td>6.540</td>\n",
       "      <td>3.297</td>\n",
       "      <td>3.25</td>\n",
       "    </tr>\n",
       "    <tr>\n",
       "      <th>2023-11-01 18:00:00+00:00</th>\n",
       "      <td>6.559</td>\n",
       "      <td>3.386</td>\n",
       "      <td>40.33</td>\n",
       "    </tr>\n",
       "    <tr>\n",
       "      <th>2023-11-01 19:00:00+00:00</th>\n",
       "      <td>NaN</td>\n",
       "      <td>NaN</td>\n",
       "      <td>NaN</td>\n",
       "    </tr>\n",
       "    <tr>\n",
       "      <th>2023-11-01 20:00:00+00:00</th>\n",
       "      <td>NaN</td>\n",
       "      <td>NaN</td>\n",
       "      <td>NaN</td>\n",
       "    </tr>\n",
       "  </tbody>\n",
       "</table>\n",
       "</div>"
      ],
      "text/plain": [
       "                             lat    lon  value\n",
       "timestamp                                     \n",
       "2023-11-01 16:00:00+00:00  6.428  3.435  19.00\n",
       "2023-11-01 17:00:00+00:00  6.540  3.297   3.25\n",
       "2023-11-01 18:00:00+00:00  6.559  3.386  40.33\n",
       "2023-11-01 19:00:00+00:00    NaN    NaN    NaN\n",
       "2023-11-01 20:00:00+00:00    NaN    NaN    NaN"
      ]
     },
     "execution_count": 115,
     "metadata": {},
     "output_type": "execute_result"
    }
   ],
   "source": [
    "merged_df = merged_df.resample(\"1H\").mean()\n",
    "merged_df.head()"
   ]
  },
  {
   "cell_type": "code",
   "execution_count": 116,
   "id": "2ca69feb-6f77-4120-88ea-7ee1a24e5bd3",
   "metadata": {},
   "outputs": [
    {
     "name": "stdout",
     "output_type": "stream",
     "text": [
      "<class 'pandas.core.frame.DataFrame'>\n",
      "DatetimeIndex: 3315 entries, 2023-11-01 16:00:00+00:00 to 2024-03-18 18:00:00+00:00\n",
      "Freq: H\n",
      "Data columns (total 3 columns):\n",
      " #   Column  Non-Null Count  Dtype  \n",
      "---  ------  --------------  -----  \n",
      " 0   lat     1271 non-null   float64\n",
      " 1   lon     1271 non-null   float64\n",
      " 2   value   1271 non-null   float64\n",
      "dtypes: float64(3)\n",
      "memory usage: 103.6 KB\n"
     ]
    }
   ],
   "source": [
    "merged_df.info()"
   ]
  },
  {
   "cell_type": "code",
   "execution_count": 117,
   "id": "82adda15-e2d2-4ad6-a421-4085af7dbc17",
   "metadata": {},
   "outputs": [
    {
     "data": {
      "text/plain": [
       "lat      0.616591\n",
       "lon      0.616591\n",
       "value    0.616591\n",
       "dtype: float64"
      ]
     },
     "execution_count": 117,
     "metadata": {},
     "output_type": "execute_result"
    }
   ],
   "source": [
    "merged_df.isnull().sum()/len(merged_df)"
   ]
  },
  {
   "cell_type": "markdown",
   "id": "c48710d7-530c-4065-ba49-f7ba354d9310",
   "metadata": {},
   "source": [
    "#### It appears some periods have missing data after resampling. Since these missing values are over 50% of the data frames total number of rows"
   ]
  },
  {
   "cell_type": "code",
   "execution_count": 118,
   "id": "5112f573-304c-4b35-b9d3-df4b43f6c6b2",
   "metadata": {},
   "outputs": [
    {
     "name": "stdout",
     "output_type": "stream",
     "text": [
      "<class 'pandas.core.frame.DataFrame'>\n",
      "DatetimeIndex: 1271 entries, 2023-11-01 16:00:00+00:00 to 2024-03-18 18:00:00+00:00\n",
      "Data columns (total 3 columns):\n",
      " #   Column  Non-Null Count  Dtype  \n",
      "---  ------  --------------  -----  \n",
      " 0   lat     1271 non-null   float64\n",
      " 1   lon     1271 non-null   float64\n",
      " 2   value   1271 non-null   float64\n",
      "dtypes: float64(3)\n",
      "memory usage: 39.7 KB\n"
     ]
    }
   ],
   "source": [
    "new_df = merged_df.dropna()\n",
    "new_df.info()"
   ]
  },
  {
   "cell_type": "code",
   "execution_count": 122,
   "id": "6a9443f8-b803-4bb1-b87f-9eba5299532d",
   "metadata": {},
   "outputs": [
    {
     "data": {
      "text/plain": [
       "[<matplotlib.lines.Line2D at 0x257a3aed1d0>]"
      ]
     },
     "execution_count": 122,
     "metadata": {},
     "output_type": "execute_result"
    },
    {
     "data": {
      "image/png": "[encoded data removed]",
      "text/plain": [
       "<Figure size 1200x600 with 1 Axes>"
      ]
     },
     "metadata": {},
     "output_type": "display_data"
    }
   ],
   "source": [
    "fig, ax = plt.subplots(figsize=(12,6))\n",
    "ax.plot(new_df[\"value\"])"
   ]
  },
  {
   "cell_type": "code",
   "execution_count": 123,
   "id": "5f942314-85c3-4030-92d3-96aaec1c7902",
   "metadata": {},
   "outputs": [
    {
     "data": {
      "text/plain": [
       "[<matplotlib.lines.Line2D at 0x257a389c390>]"
      ]
     },
     "execution_count": 123,
     "metadata": {},
     "output_type": "execute_result"
    },
    {
     "data": {
      "image/png": "[encoded data removed]",
      "text/plain": [
       "<Figure size 1200x600 with 1 Axes>"
      ]
     },
     "metadata": {},
     "output_type": "display_data"
    }
   ],
   "source": [
    "fig, ax = plt.subplots(figsize=(12,6))\n",
    "ax.plot(new_df[\"value\"].rolling(128).mean())"
   ]
  },
  {
   "cell_type": "code",
   "execution_count": 124,
   "id": "bb4099f9-ee56-4f41-8302-bff40f5fd5d4",
   "metadata": {},
   "outputs": [
    {
     "data": {
      "text/html": [
       "<div>\n",
       "<style scoped>\n",
       "    .dataframe tbody tr th:only-of-type {\n",
       "        vertical-align: middle;\n",
       "    }\n",
       "\n",
       "    .dataframe tbody tr th {\n",
       "        vertical-align: top;\n",
       "    }\n",
       "\n",
       "    .dataframe thead th {\n",
       "        text-align: right;\n",
       "    }\n",
       "</style>\n",
       "<table border=\"1\" class=\"dataframe\">\n",
       "  <thead>\n",
       "    <tr style=\"text-align: right;\">\n",
       "      <th></th>\n",
       "      <th>lat</th>\n",
       "      <th>lon</th>\n",
       "      <th>value</th>\n",
       "    </tr>\n",
       "    <tr>\n",
       "      <th>timestamp</th>\n",
       "      <th></th>\n",
       "      <th></th>\n",
       "      <th></th>\n",
       "    </tr>\n",
       "  </thead>\n",
       "  <tbody>\n",
       "    <tr>\n",
       "      <th>2023-11-01 16:00:00+00:00</th>\n",
       "      <td>6.428</td>\n",
       "      <td>3.435</td>\n",
       "      <td>19.000000</td>\n",
       "    </tr>\n",
       "    <tr>\n",
       "      <th>2023-11-01 17:00:00+00:00</th>\n",
       "      <td>6.540</td>\n",
       "      <td>3.297</td>\n",
       "      <td>3.250000</td>\n",
       "    </tr>\n",
       "    <tr>\n",
       "      <th>2023-11-01 18:00:00+00:00</th>\n",
       "      <td>6.559</td>\n",
       "      <td>3.386</td>\n",
       "      <td>40.330000</td>\n",
       "    </tr>\n",
       "    <tr>\n",
       "      <th>2023-11-03 07:00:00+00:00</th>\n",
       "      <td>6.540</td>\n",
       "      <td>3.297</td>\n",
       "      <td>41.335000</td>\n",
       "    </tr>\n",
       "    <tr>\n",
       "      <th>2023-11-03 08:00:00+00:00</th>\n",
       "      <td>6.540</td>\n",
       "      <td>3.297</td>\n",
       "      <td>42.169574</td>\n",
       "    </tr>\n",
       "  </tbody>\n",
       "</table>\n",
       "</div>"
      ],
      "text/plain": [
       "                             lat    lon      value\n",
       "timestamp                                         \n",
       "2023-11-01 16:00:00+00:00  6.428  3.435  19.000000\n",
       "2023-11-01 17:00:00+00:00  6.540  3.297   3.250000\n",
       "2023-11-01 18:00:00+00:00  6.559  3.386  40.330000\n",
       "2023-11-03 07:00:00+00:00  6.540  3.297  41.335000\n",
       "2023-11-03 08:00:00+00:00  6.540  3.297  42.169574"
      ]
     },
     "execution_count": 124,
     "metadata": {},
     "output_type": "execute_result"
    }
   ],
   "source": [
    "new_df.head()"
   ]
  },
  {
   "cell_type": "code",
   "execution_count": 126,
   "id": "bb4cafb0-c368-4992-8258-1237a87216cf",
   "metadata": {},
   "outputs": [
    {
     "data": {
      "text/plain": [
       "lat      0\n",
       "lon      0\n",
       "value    0\n",
       "dtype: int64"
      ]
     },
     "execution_count": 126,
     "metadata": {},
     "output_type": "execute_result"
    }
   ],
   "source": [
    "new_df.isnull().sum()"
   ]
  },
  {
   "cell_type": "markdown",
   "id": "c6a6cdc4-3513-46fd-97ba-9eac3538f9e3",
   "metadata": {},
   "source": [
    "### Splitting the data set\n",
    "##### Since this is a time based data, splitting won't be randomized\n",
    "Train data set will be from Dec 2023 to Feb 2024\n",
    "Test data will be march onwards"
   ]
  },
  {
   "cell_type": "code",
   "execution_count": 135,
   "id": "571639da-30b9-48d5-a67c-7d97de458129",
   "metadata": {},
   "outputs": [
    {
     "data": {
      "text/html": [
       "<div>\n",
       "<style scoped>\n",
       "    .dataframe tbody tr th:only-of-type {\n",
       "        vertical-align: middle;\n",
       "    }\n",
       "\n",
       "    .dataframe tbody tr th {\n",
       "        vertical-align: top;\n",
       "    }\n",
       "\n",
       "    .dataframe thead th {\n",
       "        text-align: right;\n",
       "    }\n",
       "</style>\n",
       "<table border=\"1\" class=\"dataframe\">\n",
       "  <thead>\n",
       "    <tr style=\"text-align: right;\">\n",
       "      <th></th>\n",
       "      <th>lat</th>\n",
       "      <th>lon</th>\n",
       "      <th>value</th>\n",
       "    </tr>\n",
       "    <tr>\n",
       "      <th>timestamp</th>\n",
       "      <th></th>\n",
       "      <th></th>\n",
       "      <th></th>\n",
       "    </tr>\n",
       "  </thead>\n",
       "  <tbody>\n",
       "    <tr>\n",
       "      <th>2024-03-18 14:00:00+00:00</th>\n",
       "      <td>6.552825</td>\n",
       "      <td>3.357075</td>\n",
       "      <td>23.735875</td>\n",
       "    </tr>\n",
       "    <tr>\n",
       "      <th>2024-03-18 15:00:00+00:00</th>\n",
       "      <td>6.558309</td>\n",
       "      <td>3.382764</td>\n",
       "      <td>28.600545</td>\n",
       "    </tr>\n",
       "    <tr>\n",
       "      <th>2024-03-18 16:00:00+00:00</th>\n",
       "      <td>6.559000</td>\n",
       "      <td>3.386000</td>\n",
       "      <td>22.947593</td>\n",
       "    </tr>\n",
       "    <tr>\n",
       "      <th>2024-03-18 17:00:00+00:00</th>\n",
       "      <td>6.557964</td>\n",
       "      <td>3.381145</td>\n",
       "      <td>23.232000</td>\n",
       "    </tr>\n",
       "    <tr>\n",
       "      <th>2024-03-18 18:00:00+00:00</th>\n",
       "      <td>6.557146</td>\n",
       "      <td>3.377317</td>\n",
       "      <td>24.168293</td>\n",
       "    </tr>\n",
       "  </tbody>\n",
       "</table>\n",
       "</div>"
      ],
      "text/plain": [
       "                                lat       lon      value\n",
       "timestamp                                               \n",
       "2024-03-18 14:00:00+00:00  6.552825  3.357075  23.735875\n",
       "2024-03-18 15:00:00+00:00  6.558309  3.382764  28.600545\n",
       "2024-03-18 16:00:00+00:00  6.559000  3.386000  22.947593\n",
       "2024-03-18 17:00:00+00:00  6.557964  3.381145  23.232000\n",
       "2024-03-18 18:00:00+00:00  6.557146  3.377317  24.168293"
      ]
     },
     "execution_count": 135,
     "metadata": {},
     "output_type": "execute_result"
    }
   ],
   "source": [
    "train = new_df[(new_df.index >= '2023-12-01 00:00:00+00:00') & (new_df.index < '2024-03-01 00:00:00+00:00')]\n",
    "test = new_df[new_df.index >= '2024-03-01 00:00:00+00:00']\n",
    "test.tail()"
   ]
  },
  {
   "cell_type": "code",
   "execution_count": 136,
   "id": "e438226d-1523-4697-ae5f-16b680000e53",
   "metadata": {},
   "outputs": [],
   "source": [
    "features = [\"lat\", \"lon\"]\n",
    "y = \"value\""
   ]
  },
  {
   "cell_type": "code",
   "execution_count": 137,
   "id": "11c21984-9d6f-445d-9b17-34033666c5e1",
   "metadata": {},
   "outputs": [],
   "source": [
    "X_train, X_test = train[features], test[features]\n",
    "y_train, y_test = train[y], test[y]"
   ]
  },
  {
   "cell_type": "code",
   "execution_count": 142,
   "id": "cef77d1f-4f21-4fd3-867e-c6285593166b",
   "metadata": {},
   "outputs": [
    {
     "data": {
      "text/plain": [
       "True"
      ]
     },
     "execution_count": 142,
     "metadata": {},
     "output_type": "execute_result"
    }
   ],
   "source": [
    "# Checking all data sets match up\n",
    "len(X_train)+len(X_test) == len(train) + len(test)"
   ]
  },
  {
   "cell_type": "code",
   "execution_count": 149,
   "id": "5baa442a-cd8e-4853-a8da-5f0b19bb5dbc",
   "metadata": {},
   "outputs": [],
   "source": [
    "from sklearn.linear_model import LinearRegression, Ridge\n",
    "model = make_pipeline(\n",
    "    Ridge()\n",
    ")"
   ]
  },
  {
   "cell_type": "code",
   "execution_count": 150,
   "id": "c7ff5890-1add-4dc1-a078-db64d80515f0",
   "metadata": {},
   "outputs": [
    {
     "data": {
      "text/html": [
       "<style>#sk-container-id-2 {color: black;background-color: white;}#sk-container-id-2 pre{padding: 0;}#sk-container-id-2 div.sk-toggleable {background-color: white;}#sk-container-id-2 label.sk-toggleable__label {cursor: pointer;display: block;width: 100%;margin-bottom: 0;padding: 0.3em;box-sizing: border-box;text-align: center;}#sk-container-id-2 label.sk-toggleable__label-arrow:before {content: \"▸\";float: left;margin-right: 0.25em;color: #696969;}#sk-container-id-2 label.sk-toggleable__label-arrow:hover:before {color: black;}#sk-container-id-2 div.sk-estimator:hover label.sk-toggleable__label-arrow:before {color: black;}#sk-container-id-2 div.sk-toggleable__content {max-height: 0;max-width: 0;overflow: hidden;text-align: left;background-color: #f0f8ff;}#sk-container-id-2 div.sk-toggleable__content pre {margin: 0.2em;color: black;border-radius: 0.25em;background-color: #f0f8ff;}#sk-container-id-2 input.sk-toggleable__control:checked~div.sk-toggleable__content {max-height: 200px;max-width: 100%;overflow: auto;}#sk-container-id-2 input.sk-toggleable__control:checked~label.sk-toggleable__label-arrow:before {content: \"▾\";}#sk-container-id-2 div.sk-estimator input.sk-toggleable__control:checked~label.sk-toggleable__label {background-color: #d4ebff;}#sk-container-id-2 div.sk-label input.sk-toggleable__control:checked~label.sk-toggleable__label {background-color: #d4ebff;}#sk-container-id-2 input.sk-hidden--visually {border: 0;clip: rect(1px 1px 1px 1px);clip: rect(1px, 1px, 1px, 1px);height: 1px;margin: -1px;overflow: hidden;padding: 0;position: absolute;width: 1px;}#sk-container-id-2 div.sk-estimator {font-family: monospace;background-color: #f0f8ff;border: 1px dotted black;border-radius: 0.25em;box-sizing: border-box;margin-bottom: 0.5em;}#sk-container-id-2 div.sk-estimator:hover {background-color: #d4ebff;}#sk-container-id-2 div.sk-parallel-item::after {content: \"\";width: 100%;border-bottom: 1px solid gray;flex-grow: 1;}#sk-container-id-2 div.sk-label:hover label.sk-toggleable__label {background-color: #d4ebff;}#sk-container-id-2 div.sk-serial::before {content: \"\";position: absolute;border-left: 1px solid gray;box-sizing: border-box;top: 0;bottom: 0;left: 50%;z-index: 0;}#sk-container-id-2 div.sk-serial {display: flex;flex-direction: column;align-items: center;background-color: white;padding-right: 0.2em;padding-left: 0.2em;position: relative;}#sk-container-id-2 div.sk-item {position: relative;z-index: 1;}#sk-container-id-2 div.sk-parallel {display: flex;align-items: stretch;justify-content: center;background-color: white;position: relative;}#sk-container-id-2 div.sk-item::before, #sk-container-id-2 div.sk-parallel-item::before {content: \"\";position: absolute;border-left: 1px solid gray;box-sizing: border-box;top: 0;bottom: 0;left: 50%;z-index: -1;}#sk-container-id-2 div.sk-parallel-item {display: flex;flex-direction: column;z-index: 1;position: relative;background-color: white;}#sk-container-id-2 div.sk-parallel-item:first-child::after {align-self: flex-end;width: 50%;}#sk-container-id-2 div.sk-parallel-item:last-child::after {align-self: flex-start;width: 50%;}#sk-container-id-2 div.sk-parallel-item:only-child::after {width: 0;}#sk-container-id-2 div.sk-dashed-wrapped {border: 1px dashed gray;margin: 0 0.4em 0.5em 0.4em;box-sizing: border-box;padding-bottom: 0.4em;background-color: white;}#sk-container-id-2 div.sk-label label {font-family: monospace;font-weight: bold;display: inline-block;line-height: 1.2em;}#sk-container-id-2 div.sk-label-container {text-align: center;}#sk-container-id-2 div.sk-container {/* jupyter's `normalize.less` sets `[hidden] { display: none; }` but bootstrap.min.css set `[hidden] { display: none !important; }` so we also need the `!important` here to be able to override the default hidden behavior on the sphinx rendered scikit-learn.org. See: https://github.com/scikit-learn/scikit-learn/issues/21755 */display: inline-block !important;position: relative;}#sk-container-id-2 div.sk-text-repr-fallback {display: none;}</style><div id=\"sk-container-id-2\" class=\"sk-top-container\"><div class=\"sk-text-repr-fallback\"><pre>Pipeline(steps=[(&#x27;ridge&#x27;, Ridge())])</pre><b>In a Jupyter environment, please rerun this cell to show the HTML representation or trust the notebook. <br />On GitHub, the HTML representation is unable to render, please try loading this page with nbviewer.org.</b></div><div class=\"sk-container\" hidden><div class=\"sk-item sk-dashed-wrapped\"><div class=\"sk-label-container\"><div class=\"sk-label sk-toggleable\"><input class=\"sk-toggleable__control sk-hidden--visually\" id=\"sk-estimator-id-3\" type=\"checkbox\" ><label for=\"sk-estimator-id-3\" class=\"sk-toggleable__label sk-toggleable__label-arrow\">Pipeline</label><div class=\"sk-toggleable__content\"><pre>Pipeline(steps=[(&#x27;ridge&#x27;, Ridge())])</pre></div></div></div><div class=\"sk-serial\"><div class=\"sk-item\"><div class=\"sk-estimator sk-toggleable\"><input class=\"sk-toggleable__control sk-hidden--visually\" id=\"sk-estimator-id-4\" type=\"checkbox\" ><label for=\"sk-estimator-id-4\" class=\"sk-toggleable__label sk-toggleable__label-arrow\">Ridge</label><div class=\"sk-toggleable__content\"><pre>Ridge()</pre></div></div></div></div></div></div></div>"
      ],
      "text/plain": [
       "Pipeline(steps=[('ridge', Ridge())])"
      ]
     },
     "execution_count": 150,
     "metadata": {},
     "output_type": "execute_result"
    }
   ],
   "source": [
    "model.fit(X_train, y_train)"
   ]
  },
  {
   "cell_type": "code",
   "execution_count": 151,
   "id": "012cd6e7-08f8-406d-bab9-b06908104b34",
   "metadata": {},
   "outputs": [
    {
     "name": "stdout",
     "output_type": "stream",
     "text": [
      "25.816903658626597\n"
     ]
    }
   ],
   "source": [
    "y_pred_baseline = [y_train.mean()]*len(y_train)\n",
    "mae_baseline = mean_absolute_error(y_train, y_pred_baseline)\n",
    "print(mae_baseline)"
   ]
  },
  {
   "cell_type": "code",
   "execution_count": 152,
   "id": "86ab9de4-f546-405c-94c4-65251a582f74",
   "metadata": {},
   "outputs": [
    {
     "name": "stdout",
     "output_type": "stream",
     "text": [
      "25.3387566446448\n"
     ]
    }
   ],
   "source": [
    "y_pred = model.predict(X_train)\n",
    "mae_train = mean_absolute_error(y_train, y_pred)\n",
    "print(mae_train)"
   ]
  },
  {
   "cell_type": "markdown",
   "id": "178cbe93-5cd1-4dfa-bcac-8c95389bb691",
   "metadata": {},
   "source": [
    "It appears there is no significant difference between the baseline and linear model with the train data.\n",
    "This makes absolute sense since it does not look like just lat and lon alone can predict air quality.\n",
    "We can try looking at how previous time air quality can predict current time air quality"
   ]
  },
  {
   "cell_type": "code",
   "execution_count": 156,
   "id": "e0ca996b-8c99-42d2-81a3-5024cb235847",
   "metadata": {},
   "outputs": [
    {
     "data": {
      "image/png": "[encoded data removed]",
      "text/plain": [
       "<Figure size 640x480 with 1 Axes>"
      ]
     },
     "execution_count": 156,
     "metadata": {},
     "output_type": "execute_result"
    },
    {
     "data": {
      "image/png": "[encoded data removed]",
      "text/plain": [
       "<Figure size 640x480 with 1 Axes>"
      ]
     },
     "metadata": {},
     "output_type": "display_data"
    }
   ],
   "source": [
    "plot_pacf(y_train)"
   ]
  },
  {
   "cell_type": "code",
   "execution_count": 157,
   "id": "94b30d4e-1f6c-4c73-830f-429510f40cc1",
   "metadata": {},
   "outputs": [
    {
     "name": "stderr",
     "output_type": "stream",
     "text": [
      "C:\\Users\\Abdulqaadir\\anaconda3\\Lib\\site-packages\\statsmodels\\tsa\\base\\tsa_model.py:473: ValueWarning: A date index has been provided, but it has no associated frequency information and so will be ignored when e.g. forecasting.\n",
      "  self._init_dates(dates, freq)\n"
     ]
    }
   ],
   "source": [
    "model_t = AutoReg(y_train, lags=30).fit()"
   ]
  },
  {
   "cell_type": "code",
   "execution_count": 159,
   "id": "4f13320b-bad2-4dbd-9e1a-62912c9c1b85",
   "metadata": {},
   "outputs": [],
   "source": [
    "y_pred_t = model_t.predict()"
   ]
  },
  {
   "cell_type": "code",
   "execution_count": 165,
   "id": "385d41fa-65e9-4a8d-91e0-7e260fb65dc4",
   "metadata": {},
   "outputs": [
    {
     "data": {
      "text/plain": [
       "899"
      ]
     },
     "execution_count": 165,
     "metadata": {},
     "output_type": "execute_result"
    }
   ],
   "source": [
    "y_pred_t.isnull().sum()"
   ]
  },
  {
   "cell_type": "code",
   "execution_count": null,
   "id": "8d691839-6ebc-4fb4-affa-4649df3226f8",
   "metadata": {},
   "outputs": [],
   "source": []
  }
 ],
 "metadata": {
  "kernelspec": {
   "display_name": "Python 3 (ipykernel)",
   "language": "python",
   "name": "python3"
  },
  "language_info": {
   "codemirror_mode": {
    "name": "ipython",
    "version": 3
   },
   "file_extension": ".py",
   "mimetype": "text/x-python",
   "name": "python",
   "nbconvert_exporter": "python",
   "pygments_lexer": "ipython3",
   "version": "3.11.7"
  }
 },
 "nbformat": 4,
 "nbformat_minor": 5
}
