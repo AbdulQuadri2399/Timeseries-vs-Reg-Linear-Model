{
 "cells": [
  {
   "cell_type": "code",
   "execution_count": 6,
   "id": "711c4536-dd39-4914-875a-fde1a03ae607",
   "metadata": {},
   "outputs": [],
   "source": [
    "import pandas as pd\n",
    "from statsmodels.graphics.tsaplots import plot_acf, plot_pacf\n",
    "from statsmodels.tsa.ar_model import AutoReg\n",
    "from pymongo import MongoClient\n",
    "import plotly.express as px\n",
    "import matplotlib.pyplot as plt\n",
    "from sklearn.metrics import mean_absolute_error\n",
    "from glob import glob"
   ]
  },
  {
   "cell_type": "markdown",
   "id": "7b53230f-dbf4-413d-a2be-e22820f3367c",
   "metadata": {},
   "source": [
    "### The goal is to figure out if time series model such as ARIMA or AutoReg will be better predictive models of Air Quality (PM2.5) in Lagos/Nigeria than a regular Linear or Ridge regression"
   ]
  },
  {
   "cell_type": "markdown",
   "id": "09e14028-39f0-4fef-9e47-b684ef071c21",
   "metadata": {},
   "source": [
    "So imagine, you got like 5 csv files from a sleek looking website. Turns out, all the data looking dirty like coz they were processes on MS Excel on a silly MAC"
   ]
  },
  {
   "cell_type": "code",
   "execution_count": 73,
   "id": "8573ecaf-9e99-4a5d-a457-8789edb53693",
   "metadata": {},
   "outputs": [],
   "source": [
    "data_files = glob(\"./data/tmp*.csv\")"
   ]
  },
  {
   "cell_type": "code",
   "execution_count": 74,
   "id": "e5b8220e-33a8-4029-aaac-9d6916d4f1be",
   "metadata": {},
   "outputs": [
    {
     "data": {
      "text/html": [
       "<div>\n",
       "<style scoped>\n",
       "    .dataframe tbody tr th:only-of-type {\n",
       "        vertical-align: middle;\n",
       "    }\n",
       "\n",
       "    .dataframe tbody tr th {\n",
       "        vertical-align: top;\n",
       "    }\n",
       "\n",
       "    .dataframe thead th {\n",
       "        text-align: right;\n",
       "    }\n",
       "</style>\n",
       "<table border=\"1\" class=\"dataframe\">\n",
       "  <thead>\n",
       "    <tr style=\"text-align: right;\">\n",
       "      <th></th>\n",
       "      <th>sensor_id;sensor_type;location;lat;lon;timestamp;value_type;value</th>\n",
       "    </tr>\n",
       "  </thead>\n",
       "  <tbody>\n",
       "    <tr>\n",
       "      <th>0</th>\n",
       "      <td>4852;DHT22;3627;6.515;3.400;2024-02-01T12:02:5...</td>\n",
       "    </tr>\n",
       "    <tr>\n",
       "      <th>1</th>\n",
       "      <td>4852;DHT22;3627;6.515;3.400;2024-02-01T12:02:5...</td>\n",
       "    </tr>\n",
       "  </tbody>\n",
       "</table>\n",
       "</div>"
      ],
      "text/plain": [
       "  sensor_id;sensor_type;location;lat;lon;timestamp;value_type;value\n",
       "0  4852;DHT22;3627;6.515;3.400;2024-02-01T12:02:5...               \n",
       "1  4852;DHT22;3627;6.515;3.400;2024-02-01T12:02:5...               "
      ]
     },
     "execution_count": 74,
     "metadata": {},
     "output_type": "execute_result"
    }
   ],
   "source": [
    "data_files[0]\n",
    "pd.read_csv(data_files[0]).head(2)"
   ]
  },
  {
   "cell_type": "code",
   "execution_count": 64,
   "id": "3161b5d2-8f0a-4b0d-8e01-6f7ac5190603",
   "metadata": {},
   "outputs": [
    {
     "data": {
      "text/html": [
       "<div>\n",
       "<style scoped>\n",
       "    .dataframe tbody tr th:only-of-type {\n",
       "        vertical-align: middle;\n",
       "    }\n",
       "\n",
       "    .dataframe tbody tr th {\n",
       "        vertical-align: top;\n",
       "    }\n",
       "\n",
       "    .dataframe thead th {\n",
       "        text-align: right;\n",
       "    }\n",
       "</style>\n",
       "<table border=\"1\" class=\"dataframe\">\n",
       "  <thead>\n",
       "    <tr style=\"text-align: right;\">\n",
       "      <th></th>\n",
       "      <th>sensor_id</th>\n",
       "      <th>sensor_type</th>\n",
       "      <th>location</th>\n",
       "      <th>lat</th>\n",
       "      <th>lon</th>\n",
       "      <th>timestamp</th>\n",
       "      <th>value_type</th>\n",
       "      <th>value</th>\n",
       "    </tr>\n",
       "  </thead>\n",
       "  <tbody>\n",
       "    <tr>\n",
       "      <th>0</th>\n",
       "      <td>4852</td>\n",
       "      <td>DHT22</td>\n",
       "      <td>3627</td>\n",
       "      <td>6.515</td>\n",
       "      <td>3.400</td>\n",
       "      <td>2024-02-01T12:02:52.744148+00:00</td>\n",
       "      <td>humidity</td>\n",
       "      <td>31.00</td>\n",
       "    </tr>\n",
       "    <tr>\n",
       "      <th>1</th>\n",
       "      <td>4852</td>\n",
       "      <td>DHT22</td>\n",
       "      <td>3627</td>\n",
       "      <td>6.515</td>\n",
       "      <td>3.400</td>\n",
       "      <td>2024-02-01T12:02:52.744148+00:00</td>\n",
       "      <td>temperature</td>\n",
       "      <td>30.00</td>\n",
       "    </tr>\n",
       "    <tr>\n",
       "      <th>2</th>\n",
       "      <td>4852</td>\n",
       "      <td>DHT22</td>\n",
       "      <td>3627</td>\n",
       "      <td>6.515</td>\n",
       "      <td>3.400</td>\n",
       "      <td>2024-02-01T12:03:47.839650+00:00</td>\n",
       "      <td>humidity</td>\n",
       "      <td>31.30</td>\n",
       "    </tr>\n",
       "    <tr>\n",
       "      <th>3</th>\n",
       "      <td>4852</td>\n",
       "      <td>DHT22</td>\n",
       "      <td>3627</td>\n",
       "      <td>6.515</td>\n",
       "      <td>3.400</td>\n",
       "      <td>2024-02-01T12:03:47.839650+00:00</td>\n",
       "      <td>temperature</td>\n",
       "      <td>30.10</td>\n",
       "    </tr>\n",
       "    <tr>\n",
       "      <th>4</th>\n",
       "      <td>4852</td>\n",
       "      <td>DHT22</td>\n",
       "      <td>3627</td>\n",
       "      <td>6.515</td>\n",
       "      <td>3.400</td>\n",
       "      <td>2024-02-01T12:04:46.909811+00:00</td>\n",
       "      <td>humidity</td>\n",
       "      <td>31.40</td>\n",
       "    </tr>\n",
       "  </tbody>\n",
       "</table>\n",
       "</div>"
      ],
      "text/plain": [
       "  sensor_id sensor_type location    lat    lon  \\\n",
       "0      4852       DHT22     3627  6.515  3.400   \n",
       "1      4852       DHT22     3627  6.515  3.400   \n",
       "2      4852       DHT22     3627  6.515  3.400   \n",
       "3      4852       DHT22     3627  6.515  3.400   \n",
       "4      4852       DHT22     3627  6.515  3.400   \n",
       "\n",
       "                          timestamp   value_type  value  \n",
       "0  2024-02-01T12:02:52.744148+00:00     humidity  31.00  \n",
       "1  2024-02-01T12:02:52.744148+00:00  temperature  30.00  \n",
       "2  2024-02-01T12:03:47.839650+00:00     humidity  31.30  \n",
       "3  2024-02-01T12:03:47.839650+00:00  temperature  30.10  \n",
       "4  2024-02-01T12:04:46.909811+00:00     humidity  31.40  "
      ]
     },
     "execution_count": 64,
     "metadata": {},
     "output_type": "execute_result"
    }
   ],
   "source": [
    "temp_df = pd.read_csv(data_files[0])\n",
    "columns = temp_df.columns.str.split(\";\")\n",
    "temp_df = temp_df[\"sensor_id;sensor_type;location;lat;lon;timestamp;value_type;value\"].str.split(\";\", expand=True)\n",
    "temp_df.columns = list(columns)[0]\n",
    "temp_df.head()"
   ]
  },
  {
   "cell_type": "code",
   "execution_count": 66,
   "id": "3ad3b897-19dc-405f-9da3-cf364bb2dbe0",
   "metadata": {},
   "outputs": [
    {
     "data": {
      "text/plain": [
       "DatetimeIndex(['2024-02-01 13:02:52.744148+01:00',\n",
       "               '2024-02-01 13:02:52.744148+01:00',\n",
       "               '2024-02-01 13:03:47.839650+01:00',\n",
       "               '2024-02-01 13:03:47.839650+01:00',\n",
       "               '2024-02-01 13:04:46.909811+01:00'],\n",
       "              dtype='datetime64[ns, Africa/Lagos]', name='timestamp', freq=None)"
      ]
     },
     "execution_count": 66,
     "metadata": {},
     "output_type": "execute_result"
    }
   ],
   "source": [
    "import pytz\n",
    "temp_df[\"timestamp\"] = pd.to_datetime(temp_df[\"timestamp\"])\n",
    "temp_df = temp_df.set_index(\"timestamp\")\n",
    "temp_df.index.tz_convert(\"Africa/Lagos\")[:5]"
   ]
  },
  {
   "cell_type": "code",
   "execution_count": 34,
   "id": "ad85d211-89bd-49e1-b383-8a4706db3cea",
   "metadata": {},
   "outputs": [
    {
     "data": {
      "text/plain": [
       "value_type\n",
       "P2             4270\n",
       "P1             4270\n",
       "P0             4270\n",
       "humidity       4144\n",
       "temperature    4143\n",
       "Name: count, dtype: int64"
      ]
     },
     "execution_count": 34,
     "metadata": {},
     "output_type": "execute_result"
    }
   ],
   "source": [
    "temp_df.value_type.value_counts()"
   ]
  },
  {
   "cell_type": "code",
   "execution_count": 37,
   "id": "cae4efee-c2ba-435a-b745-83bf6253ec26",
   "metadata": {},
   "outputs": [],
   "source": [
    "## Starting off with the Linear and Ridge Regression Models\n",
    "from sklearn.linear_model import Ridge\n",
    "from sklearn.pipeline import make_pipeline, Pipeline\n",
    "from sklearn.metrics import mean_absolute_error"
   ]
  },
  {
   "cell_type": "code",
   "execution_count": 75,
   "id": "7dbf57cb-ca28-4a98-82de-55aa29c74c27",
   "metadata": {},
   "outputs": [],
   "source": [
    "# Dealing with data wrangling\n",
    "def wrangle(data_file):\n",
    "    df = pd.read_csv(data_file)\n",
    "    columns = df.columns.str.split(\";\")\n",
    "    df = df[\"sensor_id;sensor_type;location;lat;lon;timestamp;value_type;value\"].str.split(\";\", expand=True)\n",
    "    df.columns = list(columns)[0]\n",
    "\n",
    "    # Working with only PM2.5 value_type\n",
    "    df_p2 = df[\"value_type\"] == \"P2\"\n",
    "    df = df[df_p2]\n",
    "\n",
    "    # Remove irrelevant columns\n",
    "    df.drop(columns=['sensor_id','sensor_type', 'location', 'value_type'], inplace=True)\n",
    "\n",
    "    # Convert timeezone to Lagos's\n",
    "    df[\"timestamp\"] = pd.to_datetime(df[\"timestamp\"])\n",
    "    df = df.set_index(\"timestamp\")\n",
    "    df.index.tz_convert(\"Africa/Lagos\")\n",
    "    \n",
    "    return df"
   ]
  },
  {
   "cell_type": "code",
   "execution_count": 81,
   "id": "d51bc766-6f04-4d8c-83aa-67b1de09c21d",
   "metadata": {},
   "outputs": [
    {
     "data": {
      "text/plain": [
       "['./data\\\\tmp29zv95aa.csv',\n",
       " './data\\\\tmpdhpbd64k.csv',\n",
       " './data\\\\tmpf7lx946x.csv',\n",
       " './data\\\\tmpoh50r5me.csv',\n",
       " './data\\\\tmpq5nzwa0h.csv']"
      ]
     },
     "execution_count": 81,
     "metadata": {},
     "output_type": "execute_result"
    }
   ],
   "source": [
    "data_files"
   ]
  },
  {
   "cell_type": "code",
   "execution_count": 80,
   "id": "a1e7ab97-ccd3-409b-afd2-1580ed987b65",
   "metadata": {},
   "outputs": [
    {
     "name": "stdout",
     "output_type": "stream",
     "text": [
      "                                    lat    lon  value\n",
      "timestamp                                            \n",
      "2024-02-01 16:31:44.331333+00:00  6.515  3.400  53.57\n",
      "2024-02-01 16:38:14.403956+00:00  6.515  3.400  56.89\n",
      "                                    lat    lon  value\n",
      "timestamp                                            \n",
      "2023-12-01 05:32:46.225178+00:00  6.540  3.297  45.70\n",
      "2023-12-01 05:34:06.969479+00:00  6.540  3.297  43.67\n",
      "                                    lat    lon  value\n",
      "timestamp                                            \n",
      "2024-01-01 00:31:56.569920+00:00  6.428  3.435  52.00\n",
      "2024-01-01 00:37:01.145977+00:00  6.428  3.435  46.00\n",
      "                                    lat    lon  value\n",
      "timestamp                                            \n",
      "2023-11-01 16:44:52.764459+00:00  6.428  3.435  19.00\n",
      "2023-11-01 17:52:08.924982+00:00  6.540  3.297   3.50\n",
      "                                    lat    lon  value\n",
      "timestamp                                            \n",
      "2024-03-01 00:00:39.896476+00:00  6.559  3.386  29.67\n",
      "2024-03-01 00:01:47.310570+00:00  6.559  3.386  27.00\n"
     ]
    }
   ],
   "source": [
    "for data in data_files:\n",
    "    df = wrangle(data)\n",
    "    print(df.head(2))"
   ]
  },
  {
   "cell_type": "code",
   "execution_count": null,
   "id": "99d81bc6-83c1-49e0-b805-53d7bdf8d43f",
   "metadata": {},
   "outputs": [],
   "source": [
    "Merge order of datafiles items [3, 1, 2, 0, 4]"
   ]
  }
 ],
 "metadata": {
  "kernelspec": {
   "display_name": "Python 3 (ipykernel)",
   "language": "python",
   "name": "python3"
  },
  "language_info": {
   "codemirror_mode": {
    "name": "ipython",
    "version": 3
   },
   "file_extension": ".py",
   "mimetype": "text/x-python",
   "name": "python",
   "nbconvert_exporter": "python",
   "pygments_lexer": "ipython3",
   "version": "3.11.7"
  }
 },
 "nbformat": 4,
 "nbformat_minor": 5
}
