{
 "cells": [
  {
   "cell_type": "code",
   "execution_count": 6,
   "id": "711c4536-dd39-4914-875a-fde1a03ae607",
   "metadata": {},
   "outputs": [],
   "source": [
    "import pandas as pd\n",
    "from statsmodels.graphics.tsaplots import plot_acf, plot_pacf\n",
    "from statsmodels.tsa.ar_model import AutoReg\n",
    "from pymongo import MongoClient\n",
    "import plotly.express as px\n",
    "import matplotlib.pyplot as plt\n",
    "from sklearn.metrics import mean_absolute_error\n",
    "from glob import glob"
   ]
  },
  {
   "cell_type": "markdown",
   "id": "7b53230f-dbf4-413d-a2be-e22820f3367c",
   "metadata": {},
   "source": [
    "### The goal is to figure out if time series model such as ARIMA or AutoReg will be better predictive models of Air Quality (PM2.5) in Lagos/Nigeria than a regular Linear or Ridge regression"
   ]
  },
  {
   "cell_type": "markdown",
   "id": "09e14028-39f0-4fef-9e47-b684ef071c21",
   "metadata": {},
   "source": [
    "So imagine, you got like 5 csv files from a sleek looking website. Turns out, all the data looking dirty like coz they were processes on MS Excel on a silly MAC"
   ]
  },
  {
   "cell_type": "code",
   "execution_count": 9,
   "id": "8573ecaf-9e99-4a5d-a457-8789edb53693",
   "metadata": {},
   "outputs": [],
   "source": [
    "data_files = glob(\"./data/tmp*.csv\")"
   ]
  },
  {
   "cell_type": "code",
   "execution_count": 36,
   "id": "e5b8220e-33a8-4029-aaac-9d6916d4f1be",
   "metadata": {},
   "outputs": [
    {
     "data": {
      "text/html": [
       "<div>\n",
       "<style scoped>\n",
       "    .dataframe tbody tr th:only-of-type {\n",
       "        vertical-align: middle;\n",
       "    }\n",
       "\n",
       "    .dataframe tbody tr th {\n",
       "        vertical-align: top;\n",
       "    }\n",
       "\n",
       "    .dataframe thead th {\n",
       "        text-align: right;\n",
       "    }\n",
       "</style>\n",
       "<table border=\"1\" class=\"dataframe\">\n",
       "  <thead>\n",
       "    <tr style=\"text-align: right;\">\n",
       "      <th></th>\n",
       "      <th>sensor_id;sensor_type;location;lat;lon;timestamp;value_type;value</th>\n",
       "    </tr>\n",
       "  </thead>\n",
       "  <tbody>\n",
       "    <tr>\n",
       "      <th>0</th>\n",
       "      <td>4852;DHT22;3627;6.515;3.400;2024-02-01T12:02:5...</td>\n",
       "    </tr>\n",
       "    <tr>\n",
       "      <th>1</th>\n",
       "      <td>4852;DHT22;3627;6.515;3.400;2024-02-01T12:02:5...</td>\n",
       "    </tr>\n",
       "  </tbody>\n",
       "</table>\n",
       "</div>"
      ],
      "text/plain": [
       "  sensor_id;sensor_type;location;lat;lon;timestamp;value_type;value\n",
       "0  4852;DHT22;3627;6.515;3.400;2024-02-01T12:02:5...               \n",
       "1  4852;DHT22;3627;6.515;3.400;2024-02-01T12:02:5...               "
      ]
     },
     "execution_count": 36,
     "metadata": {},
     "output_type": "execute_result"
    }
   ],
   "source": [
    "data_files[0]\n",
    "pd.read_csv(data_files[0]).head(2)"
   ]
  },
  {
   "cell_type": "code",
   "execution_count": 33,
   "id": "3161b5d2-8f0a-4b0d-8e01-6f7ac5190603",
   "metadata": {},
   "outputs": [
    {
     "data": {
      "text/html": [
       "<div>\n",
       "<style scoped>\n",
       "    .dataframe tbody tr th:only-of-type {\n",
       "        vertical-align: middle;\n",
       "    }\n",
       "\n",
       "    .dataframe tbody tr th {\n",
       "        vertical-align: top;\n",
       "    }\n",
       "\n",
       "    .dataframe thead th {\n",
       "        text-align: right;\n",
       "    }\n",
       "</style>\n",
       "<table border=\"1\" class=\"dataframe\">\n",
       "  <thead>\n",
       "    <tr style=\"text-align: right;\">\n",
       "      <th></th>\n",
       "      <th>sensor_id</th>\n",
       "      <th>sensor_type</th>\n",
       "      <th>location</th>\n",
       "      <th>lat</th>\n",
       "      <th>lon</th>\n",
       "      <th>timestamp</th>\n",
       "      <th>value_type</th>\n",
       "      <th>value</th>\n",
       "    </tr>\n",
       "  </thead>\n",
       "  <tbody>\n",
       "    <tr>\n",
       "      <th>0</th>\n",
       "      <td>4852</td>\n",
       "      <td>DHT22</td>\n",
       "      <td>3627</td>\n",
       "      <td>6.515</td>\n",
       "      <td>3.400</td>\n",
       "      <td>2024-02-01T12:02:52.744148+00:00</td>\n",
       "      <td>humidity</td>\n",
       "      <td>31.00</td>\n",
       "    </tr>\n",
       "    <tr>\n",
       "      <th>1</th>\n",
       "      <td>4852</td>\n",
       "      <td>DHT22</td>\n",
       "      <td>3627</td>\n",
       "      <td>6.515</td>\n",
       "      <td>3.400</td>\n",
       "      <td>2024-02-01T12:02:52.744148+00:00</td>\n",
       "      <td>temperature</td>\n",
       "      <td>30.00</td>\n",
       "    </tr>\n",
       "    <tr>\n",
       "      <th>2</th>\n",
       "      <td>4852</td>\n",
       "      <td>DHT22</td>\n",
       "      <td>3627</td>\n",
       "      <td>6.515</td>\n",
       "      <td>3.400</td>\n",
       "      <td>2024-02-01T12:03:47.839650+00:00</td>\n",
       "      <td>humidity</td>\n",
       "      <td>31.30</td>\n",
       "    </tr>\n",
       "    <tr>\n",
       "      <th>3</th>\n",
       "      <td>4852</td>\n",
       "      <td>DHT22</td>\n",
       "      <td>3627</td>\n",
       "      <td>6.515</td>\n",
       "      <td>3.400</td>\n",
       "      <td>2024-02-01T12:03:47.839650+00:00</td>\n",
       "      <td>temperature</td>\n",
       "      <td>30.10</td>\n",
       "    </tr>\n",
       "    <tr>\n",
       "      <th>4</th>\n",
       "      <td>4852</td>\n",
       "      <td>DHT22</td>\n",
       "      <td>3627</td>\n",
       "      <td>6.515</td>\n",
       "      <td>3.400</td>\n",
       "      <td>2024-02-01T12:04:46.909811+00:00</td>\n",
       "      <td>humidity</td>\n",
       "      <td>31.40</td>\n",
       "    </tr>\n",
       "  </tbody>\n",
       "</table>\n",
       "</div>"
      ],
      "text/plain": [
       "  sensor_id sensor_type location    lat    lon  \\\n",
       "0      4852       DHT22     3627  6.515  3.400   \n",
       "1      4852       DHT22     3627  6.515  3.400   \n",
       "2      4852       DHT22     3627  6.515  3.400   \n",
       "3      4852       DHT22     3627  6.515  3.400   \n",
       "4      4852       DHT22     3627  6.515  3.400   \n",
       "\n",
       "                          timestamp   value_type  value  \n",
       "0  2024-02-01T12:02:52.744148+00:00     humidity  31.00  \n",
       "1  2024-02-01T12:02:52.744148+00:00  temperature  30.00  \n",
       "2  2024-02-01T12:03:47.839650+00:00     humidity  31.30  \n",
       "3  2024-02-01T12:03:47.839650+00:00  temperature  30.10  \n",
       "4  2024-02-01T12:04:46.909811+00:00     humidity  31.40  "
      ]
     },
     "execution_count": 33,
     "metadata": {},
     "output_type": "execute_result"
    }
   ],
   "source": [
    "temp_df = pd.read_csv(data_files[0])\n",
    "columns = temp_df.columns.str.split(\";\")\n",
    "temp_df = temp_df[\"sensor_id;sensor_type;location;lat;lon;timestamp;value_type;value\"].str.split(\";\", expand=True)\n",
    "temp_df.columns = list(columns)[0]\n",
    "temp_df.head()"
   ]
  },
  {
   "cell_type": "code",
   "execution_count": 34,
   "id": "ad85d211-89bd-49e1-b383-8a4706db3cea",
   "metadata": {},
   "outputs": [
    {
     "data": {
      "text/plain": [
       "value_type\n",
       "P2             4270\n",
       "P1             4270\n",
       "P0             4270\n",
       "humidity       4144\n",
       "temperature    4143\n",
       "Name: count, dtype: int64"
      ]
     },
     "execution_count": 34,
     "metadata": {},
     "output_type": "execute_result"
    }
   ],
   "source": [
    "temp_df.value_type.value_counts()"
   ]
  },
  {
   "cell_type": "code",
   "execution_count": null,
   "id": "cae4efee-c2ba-435a-b745-83bf6253ec26",
   "metadata": {},
   "outputs": [],
   "source": [
    "Starting off with the Linear and Ridge Regression Models\n"
   ]
  }
 ],
 "metadata": {
  "kernelspec": {
   "display_name": "Python 3 (ipykernel)",
   "language": "python",
   "name": "python3"
  },
  "language_info": {
   "codemirror_mode": {
    "name": "ipython",
    "version": 3
   },
   "file_extension": ".py",
   "mimetype": "text/x-python",
   "name": "python",
   "nbconvert_exporter": "python",
   "pygments_lexer": "ipython3",
   "version": "3.11.7"
  }
 },
 "nbformat": 4,
 "nbformat_minor": 5
}
